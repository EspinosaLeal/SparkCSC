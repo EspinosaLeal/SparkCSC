{
 "cells": [
  {
   "cell_type": "code",
   "execution_count": 1,
   "metadata": {
    "collapsed": true
   },
   "outputs": [],
   "source": [
    "from pyspark import SparkContext\n",
    "sc = SparkContext()"
   ]
  },
  {
   "cell_type": "markdown",
   "metadata": {},
   "source": [
    "## Word Count"
   ]
  },
  {
   "cell_type": "markdown",
   "metadata": {},
   "source": [
    "#### Load the RDD from the text file"
   ]
  },
  {
   "cell_type": "code",
   "execution_count": 6,
   "metadata": {},
   "outputs": [
    {
     "data": {
      "text/plain": [
       "['The',\n",
       " 'place',\n",
       " 'where',\n",
       " 'things',\n",
       " 'are',\n",
       " 'hidden',\n",
       " 'If',\n",
       " 'you',\n",
       " 'have',\n",
       " 'to',\n",
       " 'ask',\n",
       " 'you',\n",
       " 'will',\n",
       " 'never',\n",
       " 'know',\n",
       " 'If',\n",
       " 'you',\n",
       " 'know',\n",
       " 'you',\n",
       " 'need',\n",
       " 'only',\n",
       " 'ask',\n",
       " 'The',\n",
       " 'hidden',\n",
       " 'room',\n",
       " 'of',\n",
       " 'requirement']"
      ]
     },
     "execution_count": 6,
     "metadata": {},
     "output_type": "execute_result"
    }
   ],
   "source": [
    "rdd_input = sc.textFile('data/HP.txt')\n",
    "# Split the text into words and flatten the results. Why?\n",
    "words = rdd_input.flatMap(lambda line: line.split())\n",
    "words.collect()"
   ]
  },
  {
   "cell_type": "markdown",
   "metadata": {},
   "source": [
    "#### Map the words in such a way, so that they can be counted later by aggregation"
   ]
  },
  {
   "cell_type": "code",
   "execution_count": 7,
   "metadata": {
    "collapsed": true
   },
   "outputs": [],
   "source": [
    "words_map = words.map(lambda x: (x,1))"
   ]
  },
  {
   "cell_type": "code",
   "execution_count": 9,
   "metadata": {},
   "outputs": [
    {
     "data": {
      "text/plain": [
       "[('The', 1),\n",
       " ('place', 1),\n",
       " ('where', 1),\n",
       " ('things', 1),\n",
       " ('are', 1),\n",
       " ('hidden', 1),\n",
       " ('If', 1),\n",
       " ('you', 1),\n",
       " ('have', 1),\n",
       " ('to', 1),\n",
       " ('ask', 1),\n",
       " ('you', 1),\n",
       " ('will', 1),\n",
       " ('never', 1),\n",
       " ('know', 1),\n",
       " ('If', 1),\n",
       " ('you', 1),\n",
       " ('know', 1),\n",
       " ('you', 1),\n",
       " ('need', 1),\n",
       " ('only', 1),\n",
       " ('ask', 1),\n",
       " ('The', 1),\n",
       " ('hidden', 1),\n",
       " ('room', 1),\n",
       " ('of', 1),\n",
       " ('requirement', 1)]"
      ]
     },
     "execution_count": 9,
     "metadata": {},
     "output_type": "execute_result"
    }
   ],
   "source": [
    "words_map.collect()"
   ]
  },
  {
   "cell_type": "markdown",
   "metadata": {},
   "source": [
    "#### Apply reduceByKey to complete the counting"
   ]
  },
  {
   "cell_type": "code",
   "execution_count": 10,
   "metadata": {},
   "outputs": [
    {
     "data": {
      "text/plain": [
       "[('The', 2),\n",
       " ('where', 1),\n",
       " ('things', 1),\n",
       " ('are', 1),\n",
       " ('hidden', 2),\n",
       " ('have', 1),\n",
       " ('ask', 2),\n",
       " ('never', 1),\n",
       " ('know', 2),\n",
       " ('only', 1),\n",
       " ('room', 1),\n",
       " ('of', 1),\n",
       " ('place', 1),\n",
       " ('If', 2),\n",
       " ('you', 4),\n",
       " ('to', 1),\n",
       " ('will', 1),\n",
       " ('need', 1),\n",
       " ('requirement', 1)]"
      ]
     },
     "execution_count": 10,
     "metadata": {},
     "output_type": "execute_result"
    }
   ],
   "source": [
    "words_count = words_map.reduceByKey(lambda a,b: a+b)\n",
    "words_count.collect()"
   ]
  },
  {
   "cell_type": "markdown",
   "metadata": {},
   "source": [
    "#### Sort them in the order of counts"
   ]
  },
  {
   "cell_type": "code",
   "execution_count": 12,
   "metadata": {},
   "outputs": [
    {
     "data": {
      "text/plain": [
       "[('you', 4),\n",
       " ('The', 2),\n",
       " ('hidden', 2),\n",
       " ('ask', 2),\n",
       " ('know', 2),\n",
       " ('If', 2),\n",
       " ('where', 1),\n",
       " ('things', 1),\n",
       " ('are', 1),\n",
       " ('have', 1),\n",
       " ('never', 1),\n",
       " ('only', 1),\n",
       " ('room', 1),\n",
       " ('of', 1),\n",
       " ('place', 1),\n",
       " ('to', 1),\n",
       " ('will', 1),\n",
       " ('need', 1),\n",
       " ('requirement', 1)]"
      ]
     },
     "execution_count": 12,
     "metadata": {},
     "output_type": "execute_result"
    }
   ],
   "source": [
    "#words_count_sorted_freq = words_count.sortBy(lambda x: x[1])\n",
    "words_count_sorted_freq = words_count.sortBy(lambda x: -x[1]) # Descending\n",
    "words_count_sorted_freq.collect()"
   ]
  },
  {
   "cell_type": "markdown",
   "metadata": {
    "collapsed": true
   },
   "source": [
    "#### ----"
   ]
  },
  {
   "cell_type": "markdown",
   "metadata": {},
   "source": [
    "### A different scenario"
   ]
  },
  {
   "cell_type": "code",
   "execution_count": 13,
   "metadata": {},
   "outputs": [
    {
     "data": {
      "text/plain": [
       "['A Lannister always pays his debts.',\n",
       " 'The night is dark and full of terrors.',\n",
       " 'The next time you raise a hand to me will be the last time you have hands.',\n",
       " 'When you play the Game of Thrones you win or you die.',\n",
       " 'You know nothing Jon Snow.']"
      ]
     },
     "execution_count": 13,
     "metadata": {},
     "output_type": "execute_result"
    }
   ],
   "source": [
    "# name of the file is GoT.txt\n",
    "\n",
    "rdd_got = sc.textFile('data/GOT.txt')\n",
    "rdd_got.collect()"
   ]
  },
  {
   "cell_type": "code",
   "execution_count": 14,
   "metadata": {},
   "outputs": [
    {
     "data": {
      "text/plain": [
       "['a lannister always pays his debts',\n",
       " 'the night is dark and full of terrors',\n",
       " 'the next time you raise a hand to me will be the last time you have hands',\n",
       " 'when you play the game of thrones you win or you die',\n",
       " 'you know nothing jon snow']"
      ]
     },
     "execution_count": 14,
     "metadata": {},
     "output_type": "execute_result"
    }
   ],
   "source": [
    "# data cleaning and preparation: get rid of the full stop at the end of sentences, convert everything to lowercase\n",
    "# use 'replace' function of python for replacing '.'\n",
    "rdd_got = rdd_got.map(lambda line: line.replace('.', '')).map(lambda line: line.lower())\n",
    "rdd_got.collect()"
   ]
  },
  {
   "cell_type": "markdown",
   "metadata": {},
   "source": [
    "### Now let's try to calculate the frequency of the words \"per document\" instead of the whole file"
   ]
  },
  {
   "cell_type": "code",
   "execution_count": 15,
   "metadata": {},
   "outputs": [
    {
     "data": {
      "text/plain": [
       "[['a', 'lannister', 'always', 'pays', 'his', 'debts'],\n",
       " ['the', 'night', 'is', 'dark', 'and', 'full', 'of', 'terrors'],\n",
       " ['the',\n",
       "  'next',\n",
       "  'time',\n",
       "  'you',\n",
       "  'raise',\n",
       "  'a',\n",
       "  'hand',\n",
       "  'to',\n",
       "  'me',\n",
       "  'will',\n",
       "  'be',\n",
       "  'the',\n",
       "  'last',\n",
       "  'time',\n",
       "  'you',\n",
       "  'have',\n",
       "  'hands'],\n",
       " ['when',\n",
       "  'you',\n",
       "  'play',\n",
       "  'the',\n",
       "  'game',\n",
       "  'of',\n",
       "  'thrones',\n",
       "  'you',\n",
       "  'win',\n",
       "  'or',\n",
       "  'you',\n",
       "  'die'],\n",
       " ['you', 'know', 'nothing', 'jon', 'snow']]"
      ]
     },
     "execution_count": 15,
     "metadata": {},
     "output_type": "execute_result"
    }
   ],
   "source": [
    "rdd_parsed = rdd_got.map(lambda x: x.split())\n",
    "rdd_parsed.collect()"
   ]
  },
  {
   "cell_type": "code",
   "execution_count": 16,
   "metadata": {
    "collapsed": true
   },
   "outputs": [],
   "source": [
    "def count_words_in_docs(doc_record):\n",
    "    counts = {}\n",
    "    for word in doc_record:  # Looping, Why?\n",
    "        if word not in counts:\n",
    "            counts[word] = 1\n",
    "        else:\n",
    "            counts[word] += 1\n",
    "    return list(counts.items())"
   ]
  },
  {
   "cell_type": "code",
   "execution_count": 17,
   "metadata": {},
   "outputs": [
    {
     "data": {
      "text/plain": [
       "[[('a', 1),\n",
       "  ('lannister', 1),\n",
       "  ('always', 1),\n",
       "  ('pays', 1),\n",
       "  ('his', 1),\n",
       "  ('debts', 1)],\n",
       " [('the', 1),\n",
       "  ('night', 1),\n",
       "  ('is', 1),\n",
       "  ('dark', 1),\n",
       "  ('and', 1),\n",
       "  ('full', 1),\n",
       "  ('of', 1),\n",
       "  ('terrors', 1)],\n",
       " [('the', 2),\n",
       "  ('next', 1),\n",
       "  ('time', 2),\n",
       "  ('you', 2),\n",
       "  ('raise', 1),\n",
       "  ('a', 1),\n",
       "  ('hand', 1),\n",
       "  ('to', 1),\n",
       "  ('me', 1),\n",
       "  ('will', 1),\n",
       "  ('be', 1),\n",
       "  ('last', 1),\n",
       "  ('have', 1),\n",
       "  ('hands', 1)],\n",
       " [('when', 1),\n",
       "  ('you', 3),\n",
       "  ('play', 1),\n",
       "  ('the', 1),\n",
       "  ('game', 1),\n",
       "  ('of', 1),\n",
       "  ('thrones', 1),\n",
       "  ('win', 1),\n",
       "  ('or', 1),\n",
       "  ('die', 1)],\n",
       " [('you', 1), ('know', 1), ('nothing', 1), ('jon', 1), ('snow', 1)]]"
      ]
     },
     "execution_count": 17,
     "metadata": {},
     "output_type": "execute_result"
    }
   ],
   "source": [
    "rdd_loop_counts = rdd_parsed.map(count_words_in_docs)\n",
    "rdd_loop_counts.collect()"
   ]
  },
  {
   "cell_type": "code",
   "execution_count": 18,
   "metadata": {},
   "outputs": [
    {
     "data": {
      "text/plain": [
       "[([('a', 1),\n",
       "   ('lannister', 1),\n",
       "   ('always', 1),\n",
       "   ('pays', 1),\n",
       "   ('his', 1),\n",
       "   ('debts', 1)],\n",
       "  0),\n",
       " ([('the', 1),\n",
       "   ('night', 1),\n",
       "   ('is', 1),\n",
       "   ('dark', 1),\n",
       "   ('and', 1),\n",
       "   ('full', 1),\n",
       "   ('of', 1),\n",
       "   ('terrors', 1)],\n",
       "  1),\n",
       " ([('the', 2),\n",
       "   ('next', 1),\n",
       "   ('time', 2),\n",
       "   ('you', 2),\n",
       "   ('raise', 1),\n",
       "   ('a', 1),\n",
       "   ('hand', 1),\n",
       "   ('to', 1),\n",
       "   ('me', 1),\n",
       "   ('will', 1),\n",
       "   ('be', 1),\n",
       "   ('last', 1),\n",
       "   ('have', 1),\n",
       "   ('hands', 1)],\n",
       "  2),\n",
       " ([('when', 1),\n",
       "   ('you', 3),\n",
       "   ('play', 1),\n",
       "   ('the', 1),\n",
       "   ('game', 1),\n",
       "   ('of', 1),\n",
       "   ('thrones', 1),\n",
       "   ('win', 1),\n",
       "   ('or', 1),\n",
       "   ('die', 1)],\n",
       "  3),\n",
       " ([('you', 1), ('know', 1), ('nothing', 1), ('jon', 1), ('snow', 1)], 4)]"
      ]
     },
     "execution_count": 18,
     "metadata": {},
     "output_type": "execute_result"
    }
   ],
   "source": [
    "rdd_counts_docids = rdd_loop_counts.zipWithIndex() # Generate the positional index of each record, record ids are hard to track sometimes\n",
    "rdd_counts_docids.collect()"
   ]
  },
  {
   "cell_type": "markdown",
   "metadata": {},
   "source": [
    "### User Exercise: Try to calculate the frequency of the term 'csc' , \"across all\" documents"
   ]
  },
  {
   "cell_type": "code",
   "execution_count": 19,
   "metadata": {
    "collapsed": true
   },
   "outputs": [],
   "source": [
    "rdd_csc = sc.parallelize([\n",
    "    ('Csc-doc1-na'),\n",
    "    ('csc-doc2-na'),\n",
    "    ('cSc-doc2-na'),\n",
    "    ('csC-doc3-na'),\n",
    "    ('csc-doc3-na'),\n",
    "    ('Csc-doc3-na'),\n",
    "    ('csc-doc4-na'),\n",
    "    ('cSc-doc4-na'),\n",
    "    ('CSC-doc4-na'),\n",
    "    ('csc-doc4-na'),\n",
    "])"
   ]
  },
  {
   "cell_type": "markdown",
   "metadata": {},
   "source": [
    "#### NOTE: Please get rid of the term 'na' after you have done the pre-processing and splitting"
   ]
  },
  {
   "cell_type": "code",
   "execution_count": 45,
   "metadata": {},
   "outputs": [
    {
     "data": {
      "text/plain": [
       "[(('csc', 'doc1'), 1),\n",
       " (('csc', 'doc2'), 1),\n",
       " (('csc', 'doc2'), 1),\n",
       " (('csc', 'doc3'), 1),\n",
       " (('csc', 'doc3'), 1),\n",
       " (('csc', 'doc3'), 1),\n",
       " (('csc', 'doc4'), 1),\n",
       " (('csc', 'doc4'), 1),\n",
       " (('csc', 'doc4'), 1),\n",
       " (('csc', 'doc4'), 1)]"
      ]
     },
     "execution_count": 45,
     "metadata": {},
     "output_type": "execute_result"
    }
   ],
   "source": [
    "rdd_csc1 = rdd_csc.map(lambda x:x.lower()).map(lambda x: ((x.split('-')[0], x.split('-')[1]),1)) \n",
    "rdd_csc1.collect()"
   ]
  },
  {
   "cell_type": "code",
   "execution_count": 59,
   "metadata": {},
   "outputs": [
    {
     "data": {
      "text/plain": [
       "[(('csc', 'doc3'), 3),\n",
       " (('csc', 'doc4'), 4),\n",
       " (('csc', 'doc1'), 1),\n",
       " (('csc', 'doc2'), 2)]"
      ]
     },
     "execution_count": 59,
     "metadata": {},
     "output_type": "execute_result"
    }
   ],
   "source": [
    "rdd_csc2 = rdd_csc1.reduceByKey(lambda a,b: a+b)\n",
    "rdd_csc2.collect()"
   ]
  },
  {
   "cell_type": "code",
   "execution_count": null,
   "metadata": {},
   "outputs": [],
   "source": [
    "# I can go as deeper as the index allows me"
   ]
  },
  {
   "cell_type": "code",
   "execution_count": 61,
   "metadata": {},
   "outputs": [
    {
     "data": {
      "text/plain": [
       "[(('csc', 'doc1'), 1),\n",
       " (('csc', 'doc2'), 2),\n",
       " (('csc', 'doc3'), 3),\n",
       " (('csc', 'doc4'), 4)]"
      ]
     },
     "execution_count": 61,
     "metadata": {},
     "output_type": "execute_result"
    }
   ],
   "source": [
    "rdd_csc2.sortBy(lambda x: x[0][1]).collect()"
   ]
  },
  {
   "cell_type": "code",
   "execution_count": 66,
   "metadata": {},
   "outputs": [
    {
     "data": {
      "text/plain": [
       "defaultdict(int,\n",
       "            {('csc', 'doc1'): 1,\n",
       "             ('csc', 'doc2'): 2,\n",
       "             ('csc', 'doc3'): 3,\n",
       "             ('csc', 'doc4'): 4})"
      ]
     },
     "execution_count": 66,
     "metadata": {},
     "output_type": "execute_result"
    }
   ],
   "source": [
    "rdd_csc1.countByKey()"
   ]
  },
  {
   "cell_type": "code",
   "execution_count": null,
   "metadata": {
    "collapsed": true
   },
   "outputs": [],
   "source": []
  }
 ],
 "metadata": {
  "kernelspec": {
   "display_name": "Python 3",
   "language": "python",
   "name": "python3"
  },
  "language_info": {
   "codemirror_mode": {
    "name": "ipython",
    "version": 3
   },
   "file_extension": ".py",
   "mimetype": "text/x-python",
   "name": "python",
   "nbconvert_exporter": "python",
   "pygments_lexer": "ipython3",
   "version": "3.6.2"
  }
 },
 "nbformat": 4,
 "nbformat_minor": 1
}
