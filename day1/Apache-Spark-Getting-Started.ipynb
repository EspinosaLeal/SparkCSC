{
 "cells": [
  {
   "cell_type": "code",
   "execution_count": 1,
   "metadata": {
    "collapsed": true
   },
   "outputs": [],
   "source": [
    "from pyspark import SparkContext\n",
    "sc = SparkContext()"
   ]
  },
  {
   "cell_type": "markdown",
   "metadata": {},
   "source": [
    "## CREATING RDDs USING PYTHON COLLECTIONS"
   ]
  },
  {
   "cell_type": "code",
   "execution_count": 11,
   "metadata": {},
   "outputs": [
    {
     "data": {
      "text/plain": [
       "ParallelCollectionRDD[9] at parallelize at PythonRDD.scala:480"
      ]
     },
     "execution_count": 11,
     "metadata": {},
     "output_type": "execute_result"
    }
   ],
   "source": [
    "sc.parallelize(['this', 'is', 'an', 'example'])"
   ]
  },
  {
   "cell_type": "markdown",
   "metadata": {},
   "source": [
    "A task  was created"
   ]
  },
  {
   "cell_type": "code",
   "execution_count": 4,
   "metadata": {},
   "outputs": [],
   "source": [
    "range_rdd = sc.parallelize(range(1,100))\n",
    "#range_rdd.collect()"
   ]
  },
  {
   "cell_type": "code",
   "execution_count": 5,
   "metadata": {},
   "outputs": [
    {
     "data": {
      "text/plain": [
       "99"
      ]
     },
     "execution_count": 5,
     "metadata": {},
     "output_type": "execute_result"
    }
   ],
   "source": [
    "range_rdd.count()"
   ]
  },
  {
   "cell_type": "markdown",
   "metadata": {},
   "source": [
    "## CREATING RDDs USING TEXT FILES"
   ]
  },
  {
   "cell_type": "code",
   "execution_count": 6,
   "metadata": {
    "collapsed": true
   },
   "outputs": [],
   "source": [
    "rdd_hp = sc.textFile('data/HP.txt')"
   ]
  },
  {
   "cell_type": "code",
   "execution_count": 7,
   "metadata": {},
   "outputs": [
    {
     "data": {
      "text/plain": [
       "data/HP.txt MapPartitionsRDD[6] at textFile at NativeMethodAccessorImpl.java:0"
      ]
     },
     "execution_count": 7,
     "metadata": {},
     "output_type": "execute_result"
    }
   ],
   "source": [
    "rdd_hp # Check the type of the RDD"
   ]
  },
  {
   "cell_type": "code",
   "execution_count": 8,
   "metadata": {},
   "outputs": [
    {
     "data": {
      "text/plain": [
       "['The place where things are hidden',\n",
       " 'If you have to ask you will never know',\n",
       " 'If you know you need only ask',\n",
       " 'The hidden room of requirement']"
      ]
     },
     "execution_count": 8,
     "metadata": {},
     "output_type": "execute_result"
    }
   ],
   "source": [
    "# Check the contents of the rdd created\n",
    "rdd_hp.collect()"
   ]
  },
  {
   "cell_type": "code",
   "execution_count": 9,
   "metadata": {},
   "outputs": [
    {
     "data": {
      "text/plain": [
       "4"
      ]
     },
     "execution_count": 9,
     "metadata": {},
     "output_type": "execute_result"
    }
   ],
   "source": [
    "# Check the total elements in the RDD\n",
    "rdd_hp.count()"
   ]
  },
  {
   "cell_type": "markdown",
   "metadata": {},
   "source": [
    "## SPARK TRANSFORMATIONS & ACTIONS"
   ]
  },
  {
   "cell_type": "markdown",
   "metadata": {},
   "source": [
    "#### map(func) : Return a new distributed dataset formed by passing each element of the source through a function func. "
   ]
  },
  {
   "cell_type": "code",
   "execution_count": 17,
   "metadata": {},
   "outputs": [
    {
     "data": {
      "text/plain": [
       "[(2, 2), (3, 4), (4, 6), (5, 8), (6, 10), (7, 12), (8, 14), (9, 16), (10, 18)]"
      ]
     },
     "execution_count": 17,
     "metadata": {},
     "output_type": "execute_result"
    }
   ],
   "source": [
    "ten_range_rdd = sc.parallelize(range(1,10)) # [1,2,.....10]\n",
    "ten_range_rdd_mapped = ten_range_rdd.map(lambda x: (x,x)).map(lambda x:(x[0]+1,x[1]*2)) # RDD created from an RDD\n",
    "ten_range_rdd_mapped.collect()  # collect is an action!"
   ]
  },
  {
   "cell_type": "code",
   "execution_count": 18,
   "metadata": {},
   "outputs": [
    {
     "name": "stdout",
     "output_type": "stream",
     "text": [
      "[(4, 2), (6, 4), (8, 6), (10, 8), (12, 10), (14, 12), (16, 14), (18, 16), (20, 18)]\n"
     ]
    }
   ],
   "source": [
    "ten_range_rdd_mapped_again = ten_range_rdd_mapped.map(lambda x: (x[0]*2, x[1])).collect() # Python collection\n",
    "print(ten_range_rdd_mapped_again)"
   ]
  },
  {
   "cell_type": "markdown",
   "metadata": {},
   "source": [
    "#### flatMap(func) : Similar to map, but flattens the final result. "
   ]
  },
  {
   "cell_type": "code",
   "execution_count": 19,
   "metadata": {},
   "outputs": [
    {
     "data": {
      "text/plain": [
       "[2, 3, 3, 5, 4, 7, 5, 9, 6, 11, 7, 13, 8, 15, 9, 17, 10, 19]"
      ]
     },
     "execution_count": 19,
     "metadata": {},
     "output_type": "execute_result"
    }
   ],
   "source": [
    "ten_range_rdd_flatmapped = ten_range_rdd_mapped.flatMap(lambda x: (x[0], x[1] + 1))\n",
    "ten_range_rdd_flatmapped.collect()"
   ]
  },
  {
   "cell_type": "markdown",
   "metadata": {},
   "source": [
    "#### filter(func) : return a new dataset formed by selecting those elements of the source on which func returns true. "
   ]
  },
  {
   "cell_type": "code",
   "execution_count": 20,
   "metadata": {},
   "outputs": [
    {
     "data": {
      "text/plain": [
       "['The place where things are hidden',\n",
       " 'If you have to ask you will never know',\n",
       " 'If you know you need only ask',\n",
       " 'The hidden room of requirement']"
      ]
     },
     "execution_count": 20,
     "metadata": {},
     "output_type": "execute_result"
    }
   ],
   "source": [
    "rdd_hp.collect() # Get back to the RDD we created"
   ]
  },
  {
   "cell_type": "code",
   "execution_count": 21,
   "metadata": {},
   "outputs": [
    {
     "data": {
      "text/plain": [
       "['If you have to ask you will never know', 'If you know you need only ask']"
      ]
     },
     "execution_count": 21,
     "metadata": {},
     "output_type": "execute_result"
    }
   ],
   "source": [
    "rdd_hp_filtered = rdd_hp.filter(lambda line: line.startswith('If'))\n",
    "rdd_hp_filtered.collect()"
   ]
  },
  {
   "cell_type": "markdown",
   "metadata": {},
   "source": [
    "##### USER EXERCISE"
   ]
  },
  {
   "cell_type": "code",
   "execution_count": 25,
   "metadata": {},
   "outputs": [
    {
     "data": {
      "text/plain": [
       "['THE PLACE WHERE THINGS ARE HIDDEN',\n",
       " 'IF YOU HAVE TO ASK YOU WILL NEVER KNOW',\n",
       " 'IF YOU KNOW YOU NEED ONLY ASK',\n",
       " 'THE HIDDEN ROOM OF REQUIREMENT']"
      ]
     },
     "execution_count": 25,
     "metadata": {},
     "output_type": "execute_result"
    }
   ],
   "source": [
    "# Convert all the lines to Uppercase\n",
    "rdd_hp1 = rdd_hp.map(lambda line: line.upper())\n",
    "rdd_hp1.collect()"
   ]
  },
  {
   "cell_type": "code",
   "execution_count": 44,
   "metadata": {},
   "outputs": [
    {
     "data": {
      "text/plain": [
       "['IF YOU HAVE TO ASK YOU WILL NEVER KNOW', 'IF YOU KNOW YOU NEED ONLY ASK']"
      ]
     },
     "execution_count": 44,
     "metadata": {},
     "output_type": "execute_result"
    }
   ],
   "source": [
    "# Remove the lines which contain the word \"HIDDEN” in it\n",
    "rdd_hp2 = rdd_hp1.filter(lambda line: 'HIDDEN' not in line )\n",
    "rdd_hp2.collect()"
   ]
  },
  {
   "cell_type": "code",
   "execution_count": 51,
   "metadata": {},
   "outputs": [
    {
     "data": {
      "text/plain": [
       "[('THE PLACE WHERE THINGS ARE HIDDEN', 33),\n",
       " ('IF YOU HAVE TO ASK YOU WILL NEVER KNOW', 38),\n",
       " ('IF YOU KNOW YOU NEED ONLY ASK', 29),\n",
       " ('THE HIDDEN ROOM OF REQUIREMENT', 30)]"
      ]
     },
     "execution_count": 51,
     "metadata": {},
     "output_type": "execute_result"
    }
   ],
   "source": [
    "# Create a new RDD with elements that are tuples (x, y), where x represents a line and y is the length of that line\n",
    "rdd_hp1.map(lambda line: (line,len(line))).collect()\n"
   ]
  },
  {
   "cell_type": "code",
   "execution_count": 57,
   "metadata": {},
   "outputs": [
    {
     "data": {
      "text/plain": [
       "['IF YOU KNOW YOU NEED ONLY ASK', 'THE HIDDEN ROOM OF REQUIREMENT']"
      ]
     },
     "execution_count": 57,
     "metadata": {},
     "output_type": "execute_result"
    }
   ],
   "source": [
    "# Remove lines that are longer than 30 characters\n",
    "rdd_hp4 = rdd_hp1.filter(lambda line: len(line)<=30)\n",
    "rdd_hp4.collect()"
   ]
  },
  {
   "cell_type": "code",
   "execution_count": 65,
   "metadata": {},
   "outputs": [],
   "source": [
    "# Arrange all the words in a single list using a one-liner and count the total number of words\n",
    "rdd_hp5 = rdd_hp.flatMap(lambda line: line.split())"
   ]
  },
  {
   "cell_type": "code",
   "execution_count": 66,
   "metadata": {},
   "outputs": [
    {
     "data": {
      "text/plain": [
       "['The',\n",
       " 'place',\n",
       " 'where',\n",
       " 'things',\n",
       " 'are',\n",
       " 'hidden',\n",
       " 'If',\n",
       " 'you',\n",
       " 'have',\n",
       " 'to',\n",
       " 'ask',\n",
       " 'you',\n",
       " 'will',\n",
       " 'never',\n",
       " 'know',\n",
       " 'If',\n",
       " 'you',\n",
       " 'know',\n",
       " 'you',\n",
       " 'need',\n",
       " 'only',\n",
       " 'ask',\n",
       " 'The',\n",
       " 'hidden',\n",
       " 'room',\n",
       " 'of',\n",
       " 'requirement']"
      ]
     },
     "execution_count": 66,
     "metadata": {},
     "output_type": "execute_result"
    }
   ],
   "source": [
    "rdd_hp5.collect()"
   ]
  },
  {
   "cell_type": "code",
   "execution_count": 73,
   "metadata": {},
   "outputs": [
    {
     "data": {
      "text/plain": [
       "[('The', 3),\n",
       " ('place', 5),\n",
       " ('where', 5),\n",
       " ('things', 6),\n",
       " ('are', 3),\n",
       " ('hidden', 6),\n",
       " ('If', 2),\n",
       " ('you', 3),\n",
       " ('have', 4),\n",
       " ('to', 2),\n",
       " ('ask', 3),\n",
       " ('you', 3),\n",
       " ('will', 4),\n",
       " ('never', 5),\n",
       " ('know', 4),\n",
       " ('If', 2),\n",
       " ('you', 3),\n",
       " ('know', 4),\n",
       " ('you', 3),\n",
       " ('need', 4),\n",
       " ('only', 4),\n",
       " ('ask', 3),\n",
       " ('The', 3),\n",
       " ('hidden', 6),\n",
       " ('room', 4),\n",
       " ('of', 2),\n",
       " ('requirement', 11)]"
      ]
     },
     "execution_count": 73,
     "metadata": {},
     "output_type": "execute_result"
    }
   ],
   "source": [
    "# Arrange the words with the length of each word in a tuple for eg. (\"word\", 4)\n",
    "rdd_hp5.map(lambda line:(line,len(line))).collect()"
   ]
  },
  {
   "cell_type": "markdown",
   "metadata": {},
   "source": [
    "#### groupByKey() : When called on a dataset of (K, V) pairs, returns a dataset of (K, Iterable &lt;V&gt;) pairs. "
   ]
  },
  {
   "cell_type": "code",
   "execution_count": 74,
   "metadata": {},
   "outputs": [
    {
     "data": {
      "text/plain": [
       "[('Finland', 'Helsinki'),\n",
       " ('Norway', 'Oslo'),\n",
       " ('Sweden', 'Stockholm'),\n",
       " ('Denmark', 'Copenhagen'),\n",
       " ('Norway', 'Bergen'),\n",
       " ('Finland', 'Tampere'),\n",
       " ('Denmark', 'Aarhus'),\n",
       " ('Finland', 'Turku')]"
      ]
     },
     "execution_count": 74,
     "metadata": {},
     "output_type": "execute_result"
    }
   ],
   "source": [
    "rdd_places = sc.parallelize([(\"Finland\", \"Helsinki\"), (\"Norway\", \"Oslo\"), (\"Sweden\", \"Stockholm\"),\n",
    "                             (\"Denmark\", \"Copenhagen\"), (\"Norway\", \"Bergen\"), (\"Finland\", \"Tampere\"),\n",
    "                             (\"Denmark\", \"Aarhus\"), (\"Finland\", \"Turku\")])\n",
    "rdd_places.collect()"
   ]
  },
  {
   "cell_type": "code",
   "execution_count": 116,
   "metadata": {},
   "outputs": [
    {
     "data": {
      "text/plain": [
       "[('Finland', <pyspark.resultiterable.ResultIterable at 0x7f27261fbb38>),\n",
       " ('Norway', <pyspark.resultiterable.ResultIterable at 0x7f27261fb7f0>),\n",
       " ('Denmark', <pyspark.resultiterable.ResultIterable at 0x7f27261fb588>),\n",
       " ('Sweden', <pyspark.resultiterable.ResultIterable at 0x7f27261fbf98>)]"
      ]
     },
     "execution_count": 116,
     "metadata": {},
     "output_type": "execute_result"
    }
   ],
   "source": [
    "rdd_places_grouped = rdd_places.groupByKey()\n",
    "rdd_places_grouped.collect()"
   ]
  },
  {
   "cell_type": "code",
   "execution_count": 125,
   "metadata": {},
   "outputs": [
    {
     "data": {
      "text/plain": [
       "[('Finland', ['Helsinki', 'Tampere', 'Turku']),\n",
       " ('Norway', ['Oslo', 'Bergen']),\n",
       " ('Denmark', ['Copenhagen', 'Aarhus']),\n",
       " ('Sweden', ['Stockholm'])]"
      ]
     },
     "execution_count": 125,
     "metadata": {},
     "output_type": "execute_result"
    }
   ],
   "source": [
    "# User readable format\n",
    "rdd_places_grouped.map(lambda x : (x[0], list(x[1]))).collect()"
   ]
  },
  {
   "cell_type": "code",
   "execution_count": 128,
   "metadata": {},
   "outputs": [
    {
     "data": {
      "text/plain": [
       "[('Finland', ['Helsinki', 'Tampere', 'Turku']),\n",
       " ('Norway', ['Oslo', 'Bergen']),\n",
       " ('Denmark', ['Copenhagen', 'Aarhus']),\n",
       " ('Sweden', ['Stockholm'])]"
      ]
     },
     "execution_count": 128,
     "metadata": {},
     "output_type": "execute_result"
    }
   ],
   "source": [
    "rdd_places_grouped.mapValues(list).collect()"
   ]
  },
  {
   "cell_type": "markdown",
   "metadata": {},
   "source": [
    "#### join(otherDataset, [numTasks]) : When called on datasets of type (K, V) and (K, W), returns a dataset of (K, (V, W)) pairs with all pairs of elements for each key. Outer joins are also supported"
   ]
  },
  {
   "cell_type": "code",
   "execution_count": 76,
   "metadata": {},
   "outputs": [
    {
     "data": {
      "text/plain": [
       "[('Norway', ('Oslo', 'Stavanger')),\n",
       " ('Norway', ('Bergen', 'Stavanger')),\n",
       " ('Finland', ('Helsinki', 'Espoo')),\n",
       " ('Finland', ('Helsinki', 'Vantaa')),\n",
       " ('Finland', ('Tampere', 'Espoo')),\n",
       " ('Finland', ('Tampere', 'Vantaa')),\n",
       " ('Finland', ('Turku', 'Espoo')),\n",
       " ('Finland', ('Turku', 'Vantaa')),\n",
       " ('Sweden', ('Stockholm', 'Gothenburg'))]"
      ]
     },
     "execution_count": 76,
     "metadata": {},
     "output_type": "execute_result"
    }
   ],
   "source": [
    "rdd_places_other = sc.parallelize([(\"Finland\", \"Espoo\"), (\"Norway\", \"Stavanger\"), (\"Sweden\", \"Gothenburg\"), (\"Finland\", \"Vantaa\")])\n",
    "rdd_places.join(rdd_places_other).collect()"
   ]
  },
  {
   "cell_type": "code",
   "execution_count": 77,
   "metadata": {},
   "outputs": [
    {
     "data": {
      "text/plain": [
       "[('Norway', (['Oslo', 'Bergen'], 'Stavanger')),\n",
       " ('Finland', (['Helsinki', 'Tampere', 'Turku'], 'Espoo')),\n",
       " ('Finland', (['Helsinki', 'Tampere', 'Turku'], 'Vantaa')),\n",
       " ('Sweden', (['Stockholm'], 'Gothenburg'))]"
      ]
     },
     "execution_count": 77,
     "metadata": {},
     "output_type": "execute_result"
    }
   ],
   "source": [
    "rdd_places_grouped.mapValues(list).join(rdd_places_other).collect()"
   ]
  },
  {
   "cell_type": "markdown",
   "metadata": {},
   "source": [
    "#### cogroup(otherDataset, [numTasks]) : When called on datasets of type (K, V) and (K, W), returns a dataset of (K, (Iterable&lt;V&gt; , Iterable&lt;W&gt;)) tuples."
   ]
  },
  {
   "cell_type": "code",
   "execution_count": 78,
   "metadata": {
    "collapsed": true
   },
   "outputs": [],
   "source": [
    "rdd_places_other_cogrouped = rdd_places.cogroup(rdd_places_other)"
   ]
  },
  {
   "cell_type": "code",
   "execution_count": 79,
   "metadata": {},
   "outputs": [
    {
     "data": {
      "text/plain": [
       "[('Norway', (['Oslo', 'Bergen'], ['Stavanger'])),\n",
       " ('Finland', (['Helsinki', 'Tampere', 'Turku'], ['Espoo', 'Vantaa'])),\n",
       " ('Denmark', (['Copenhagen', 'Aarhus'], [])),\n",
       " ('Sweden', (['Stockholm'], ['Gothenburg']))]"
      ]
     },
     "execution_count": 79,
     "metadata": {},
     "output_type": "execute_result"
    }
   ],
   "source": [
    "rdd_places_other_cogrouped.map(lambda x: (x[0], (list(x[1][0]), list(x[1][1])))).collect()"
   ]
  },
  {
   "cell_type": "markdown",
   "metadata": {},
   "source": [
    "#### sortByKey([ascending], [numTasks]) : When called on a dataset of (K, V) pairs, returns a dataset of (K, V) pairs sorted by keys in ascending or descending order, as specified in the boolean ascending argument."
   ]
  },
  {
   "cell_type": "code",
   "execution_count": 80,
   "metadata": {},
   "outputs": [
    {
     "data": {
      "text/plain": [
       "[('Denmark', 'Copenhagen'),\n",
       " ('Denmark', 'Aarhus'),\n",
       " ('Finland', 'Helsinki'),\n",
       " ('Finland', 'Tampere'),\n",
       " ('Finland', 'Turku'),\n",
       " ('Norway', 'Oslo'),\n",
       " ('Norway', 'Bergen'),\n",
       " ('Sweden', 'Stockholm')]"
      ]
     },
     "execution_count": 80,
     "metadata": {},
     "output_type": "execute_result"
    }
   ],
   "source": [
    "# Sort by key\n",
    "rdd_places.sortByKey().collect()"
   ]
  },
  {
   "cell_type": "code",
   "execution_count": 81,
   "metadata": {},
   "outputs": [
    {
     "data": {
      "text/plain": [
       "[('Sweden', 'Stockholm'),\n",
       " ('Norway', 'Oslo'),\n",
       " ('Norway', 'Bergen'),\n",
       " ('Finland', 'Helsinki'),\n",
       " ('Finland', 'Tampere'),\n",
       " ('Finland', 'Turku'),\n",
       " ('Denmark', 'Copenhagen'),\n",
       " ('Denmark', 'Aarhus')]"
      ]
     },
     "execution_count": 81,
     "metadata": {},
     "output_type": "execute_result"
    }
   ],
   "source": [
    "rdd_places.sortByKey(0).collect()"
   ]
  },
  {
   "cell_type": "code",
   "execution_count": null,
   "metadata": {
    "collapsed": true
   },
   "outputs": [],
   "source": []
  },
  {
   "cell_type": "markdown",
   "metadata": {},
   "source": [
    "#### reduceByKey(func, [numTasks]) \tWhen called on a dataset of (K, V) pairs, returns a dataset of (K, V) pairs where the values for each key are aggregated using the given reduce function func, which must be of type (V,V) => V."
   ]
  },
  {
   "cell_type": "code",
   "execution_count": 133,
   "metadata": {},
   "outputs": [
    {
     "data": {
      "text/plain": [
       "[('Ronaldo', 3), ('Suarez', 2), ('Messi', 4)]"
      ]
     },
     "execution_count": 133,
     "metadata": {},
     "output_type": "execute_result"
    }
   ],
   "source": [
    "rdd_reduce_example = sc.parallelize([(\"Messi\", 2), (\"Suarez\", 2), (\"Ronaldo\", 0), (\"Ronaldo\", 3), (\"Messi\", 2)])\n",
    "rdd_reduce_example.reduceByKey(lambda a,b: a+b).collect()"
   ]
  },
  {
   "cell_type": "code",
   "execution_count": 134,
   "metadata": {},
   "outputs": [
    {
     "data": {
      "text/plain": [
       "[('Messi', 4), ('Ronaldo', 3), ('Suarez', 2)]"
      ]
     },
     "execution_count": 134,
     "metadata": {},
     "output_type": "execute_result"
    }
   ],
   "source": [
    "# Sort by value\n",
    "rdd_reduce_example.reduceByKey(lambda a,b: a+b).sortByKey().collect()"
   ]
  },
  {
   "cell_type": "code",
   "execution_count": 137,
   "metadata": {},
   "outputs": [
    {
     "data": {
      "text/plain": [
       "[('Messi', 2), ('Messi', 2), ('Ronaldo', 0), ('Ronaldo', 3), ('Suarez', 2)]"
      ]
     },
     "execution_count": 137,
     "metadata": {},
     "output_type": "execute_result"
    }
   ],
   "source": [
    "rdd_reduce_example.sortByKey().collect()"
   ]
  },
  {
   "cell_type": "markdown",
   "metadata": {},
   "source": [
    "## SOME RDD ACTIONS"
   ]
  },
  {
   "cell_type": "code",
   "execution_count": 85,
   "metadata": {},
   "outputs": [
    {
     "data": {
      "text/plain": [
       "[('Finland', 'Helsinki'),\n",
       " ('Norway', 'Oslo'),\n",
       " ('Sweden', 'Stockholm'),\n",
       " ('Denmark', 'Copenhagen'),\n",
       " ('Norway', 'Bergen'),\n",
       " ('Finland', 'Tampere'),\n",
       " ('Denmark', 'Aarhus'),\n",
       " ('Finland', 'Turku')]"
      ]
     },
     "execution_count": 85,
     "metadata": {},
     "output_type": "execute_result"
    }
   ],
   "source": [
    "rdd_places.collect()"
   ]
  },
  {
   "cell_type": "code",
   "execution_count": 87,
   "metadata": {},
   "outputs": [
    {
     "data": {
      "text/plain": [
       "8"
      ]
     },
     "execution_count": 87,
     "metadata": {},
     "output_type": "execute_result"
    }
   ],
   "source": [
    "# Check the total elements in rdd_places\n",
    "rdd_places.count()"
   ]
  },
  {
   "cell_type": "code",
   "execution_count": 92,
   "metadata": {},
   "outputs": [
    {
     "data": {
      "text/plain": [
       "[('Finland', 'Helsinki')]"
      ]
     },
     "execution_count": 92,
     "metadata": {},
     "output_type": "execute_result"
    }
   ],
   "source": [
    "# Output the first element in the rdd\n",
    "rdd_places.take(1)"
   ]
  },
  {
   "cell_type": "code",
   "execution_count": 93,
   "metadata": {},
   "outputs": [
    {
     "data": {
      "text/plain": [
       "[('Finland', 'Helsinki'), ('Norway', 'Oslo')]"
      ]
     },
     "execution_count": 93,
     "metadata": {},
     "output_type": "execute_result"
    }
   ],
   "source": [
    "# Output an array with the first two elements\n",
    "rdd_places.take(2)"
   ]
  },
  {
   "cell_type": "code",
   "execution_count": 126,
   "metadata": {},
   "outputs": [
    {
     "data": {
      "text/plain": [
       "[('Denmark', 'Aarhus'), ('Finland', 'Turku')]"
      ]
     },
     "execution_count": 126,
     "metadata": {},
     "output_type": "execute_result"
    }
   ],
   "source": [
    "# Output a sample of 2 random elements with replacement\n",
    "rdd_places.takeSample(False,2)"
   ]
  },
  {
   "cell_type": "code",
   "execution_count": 104,
   "metadata": {},
   "outputs": [
    {
     "data": {
      "text/plain": [
       "[('Denmark', 'Aarhus'), ('Denmark', 'Copenhagen')]"
      ]
     },
     "execution_count": 104,
     "metadata": {},
     "output_type": "execute_result"
    }
   ],
   "source": [
    "# Output the first 2 elements by using their natural ordering\n",
    "rdd_places.takeOrdered(2)"
   ]
  },
  {
   "cell_type": "code",
   "execution_count": null,
   "metadata": {
    "collapsed": true
   },
   "outputs": [],
   "source": [
    "# Output the total number of elements for each key"
   ]
  },
  {
   "cell_type": "code",
   "execution_count": 108,
   "metadata": {},
   "outputs": [
    {
     "data": {
      "text/plain": [
       "defaultdict(int, {'Denmark': 2, 'Finland': 3, 'Norway': 2, 'Sweden': 1})"
      ]
     },
     "execution_count": 108,
     "metadata": {},
     "output_type": "execute_result"
    }
   ],
   "source": [
    "rdd_places.countByKey()"
   ]
  },
  {
   "cell_type": "code",
   "execution_count": null,
   "metadata": {
    "collapsed": true
   },
   "outputs": [],
   "source": []
  }
 ],
 "metadata": {
  "celltoolbar": "Raw Cell Format",
  "kernelspec": {
   "display_name": "Python 3",
   "language": "python",
   "name": "python3"
  },
  "language_info": {
   "codemirror_mode": {
    "name": "ipython",
    "version": 3
   },
   "file_extension": ".py",
   "mimetype": "text/x-python",
   "name": "python",
   "nbconvert_exporter": "python",
   "pygments_lexer": "ipython3",
   "version": "3.6.2"
  }
 },
 "nbformat": 4,
 "nbformat_minor": 1
}
